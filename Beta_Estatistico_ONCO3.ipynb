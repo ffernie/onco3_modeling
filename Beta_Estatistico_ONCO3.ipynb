{
 "cells": [
  {
   "cell_type": "markdown",
   "metadata": {},
   "source": [
    "# Calculando o Beta Estatístico da Oncoclínicas (BVMF: ONCO3)"
   ]
  },
  {
   "cell_type": "code",
   "execution_count": 2,
   "metadata": {},
   "outputs": [
    {
     "name": "stdout",
     "output_type": "stream",
     "text": [
      "[*********************100%***********************]  2 of 2 completed\n",
      "1.2118374395258937\n",
      "0.18739618598270313\n",
      "----------------------------------------------------------------------------------\n",
      "                            OLS Regression Results                            \n",
      "==============================================================================\n",
      "Dep. Variable:               ONCO3.SA   R-squared:                       0.187\n",
      "Model:                            OLS   Adj. R-squared:                  0.186\n",
      "Method:                 Least Squares   F-statistic:                     108.6\n",
      "Date:                Mon, 14 Aug 2023   Prob (F-statistic):           5.03e-23\n",
      "Time:                        16:30:09   Log-Likelihood:                 950.35\n",
      "No. Observations:                 473   AIC:                            -1897.\n",
      "Df Residuals:                     471   BIC:                            -1888.\n",
      "Df Model:                           1                                         \n",
      "Covariance Type:            nonrobust                                         \n",
      "==============================================================================\n",
      "                 coef    std err          t      P>|t|      [0.025      0.975]\n",
      "------------------------------------------------------------------------------\n",
      "const         -0.0001      0.001     -0.077      0.939      -0.003       0.003\n",
      "^BVSP          1.2118      0.116     10.422      0.000       0.983       1.440\n",
      "==============================================================================\n",
      "Omnibus:                       23.231   Durbin-Watson:                   2.050\n",
      "Prob(Omnibus):                  0.000   Jarque-Bera (JB):               53.500\n",
      "Skew:                           0.217   Prob(JB):                     2.41e-12\n",
      "Kurtosis:                       4.590   Cond. No.                         77.8\n",
      "==============================================================================\n",
      "\n",
      "Notes:\n",
      "[1] Standard Errors assume that the covariance matrix of the errors is correctly specified.\n"
     ]
    }
   ],
   "source": [
    "# CALCULANDO O BETA ESTATÍSTICO DA ONCOCLÍNICAS (BVMF: ONCO3)\n",
    "\n",
    "## Importando as bibliotecas necessárias:\n",
    "import yfinance as yf\n",
    "import statsmodels.api as sm\n",
    "from datetime import timedelta\n",
    "from datetime import datetime\n",
    "\n",
    "## Definindo as variáveis:\n",
    "ativos = ['ONCO3.SA', '^BVSP']\n",
    "data = datetime.now()\n",
    "cinco_anos_atras = data - timedelta(days= 1825)\n",
    "\n",
    "## Obtendo os dados das cotações:\n",
    "dados_cotacoes = yf.download(ativos, start = cinco_anos_atras, end = data)['Adj Close']\n",
    "\n",
    "retornos_diarios = dados_cotacoes.pct_change().dropna()\n",
    "\n",
    "## Calculando o Beta da empresaa 1:\n",
    "X = retornos_diarios['^BVSP']\n",
    "Y = retornos_diarios[ativos[0]]\n",
    "X = sm.add_constant(X)\n",
    "model = sm.OLS(Y, X).fit()\n",
    "\n",
    "## Beta:\n",
    "print(model.params[1])\n",
    "print(model.rsquared)\n",
    "print('----------------------------------------------------------------------------------')\n",
    "print(str(model.summary()))"
   ]
  },
  {
   "cell_type": "code",
   "execution_count": null,
   "metadata": {},
   "outputs": [],
   "source": []
  }
 ],
 "metadata": {
  "kernelspec": {
   "display_name": "Python 3",
   "language": "python",
   "name": "python3"
  },
  "language_info": {
   "codemirror_mode": {
    "name": "ipython",
    "version": 3
   },
   "file_extension": ".py",
   "mimetype": "text/x-python",
   "name": "python",
   "nbconvert_exporter": "python",
   "pygments_lexer": "ipython3",
   "version": "3.11.3"
  },
  "orig_nbformat": 4
 },
 "nbformat": 4,
 "nbformat_minor": 2
}
